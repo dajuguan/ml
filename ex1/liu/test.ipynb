{
 "cells": [
  {
   "cell_type": "code",
   "execution_count": 1,
   "metadata": {},
   "outputs": [
    {
     "name": "stderr",
     "output_type": "stream",
     "text": [
      "Using TensorFlow backend.\n"
     ]
    },
    {
     "name": "stdout",
     "output_type": "stream",
     "text": [
      "_________________________________________________________________\n",
      "Layer (type)                 Output Shape              Param #   \n",
      "=================================================================\n",
      "input_1 (InputLayer)         (None, 252)               0         \n",
      "_________________________________________________________________\n",
      "embedding_1 (Embedding)      (None, 252, 10)           40030     \n",
      "_________________________________________________________________\n",
      "conv1d_1 (Conv1D)            (None, 252, 128)          2688      \n",
      "_________________________________________________________________\n",
      "global_average_pooling1d_1 ( (None, 128)               0         \n",
      "_________________________________________________________________\n",
      "dense_1 (Dense)              (None, 512)               66048     \n",
      "_________________________________________________________________\n",
      "dropout_1 (Dropout)          (None, 512)               0         \n",
      "_________________________________________________________________\n",
      "dense_3 (Dense)              (None, 2)                 1026      \n",
      "=================================================================\n",
      "Total params: 109,792\n",
      "Trainable params: 109,792\n",
      "Non-trainable params: 0\n",
      "_________________________________________________________________\n",
      "Train on 16000 samples, validate on 4000 samples\n",
      "Epoch 1/1000\n",
      "16000/16000 [==============================] - 7s 416us/step - loss: 2.0073 - acc: 0.5096 - val_loss: 1.3681 - val_acc: 0.5535\n",
      "Epoch 2/1000\n",
      "16000/16000 [==============================] - 1s 44us/step - loss: 1.0783 - acc: 0.6125 - val_loss: 0.8566 - val_acc: 0.6385\n",
      "Epoch 3/1000\n",
      "16000/16000 [==============================] - 1s 45us/step - loss: 0.7365 - acc: 0.7101 - val_loss: 0.6130 - val_acc: 0.7668\n",
      "Epoch 4/1000\n",
      "16000/16000 [==============================] - 1s 44us/step - loss: 0.5291 - acc: 0.8019 - val_loss: 0.4712 - val_acc: 0.8375\n",
      "Epoch 5/1000\n",
      "16000/16000 [==============================] - 1s 44us/step - loss: 0.4149 - acc: 0.8585 - val_loss: 0.4136 - val_acc: 0.8530\n",
      "Epoch 6/1000\n",
      "16000/16000 [==============================] - 1s 44us/step - loss: 0.3640 - acc: 0.8729 - val_loss: 0.3930 - val_acc: 0.8560\n",
      "Epoch 7/1000\n",
      "16000/16000 [==============================] - 1s 43us/step - loss: 0.3306 - acc: 0.8883 - val_loss: 0.3716 - val_acc: 0.8675\n",
      "Epoch 8/1000\n",
      "16000/16000 [==============================] - 1s 44us/step - loss: 0.3072 - acc: 0.8962 - val_loss: 0.3578 - val_acc: 0.8727\n",
      "Epoch 9/1000\n",
      "16000/16000 [==============================] - 1s 44us/step - loss: 0.2878 - acc: 0.9044 - val_loss: 0.3519 - val_acc: 0.8753\n",
      "Epoch 10/1000\n",
      "16000/16000 [==============================] - 1s 43us/step - loss: 0.2717 - acc: 0.9113 - val_loss: 0.3482 - val_acc: 0.8730\n",
      "Epoch 11/1000\n",
      "16000/16000 [==============================] - 1s 44us/step - loss: 0.2642 - acc: 0.9122 - val_loss: 0.3505 - val_acc: 0.8710\n",
      "Epoch 12/1000\n",
      "16000/16000 [==============================] - 1s 44us/step - loss: 0.2512 - acc: 0.9194 - val_loss: 0.3479 - val_acc: 0.8760\n",
      "Epoch 13/1000\n",
      "16000/16000 [==============================] - 1s 44us/step - loss: 0.2433 - acc: 0.9204 - val_loss: 0.3496 - val_acc: 0.8740\n",
      "Epoch 14/1000\n",
      "16000/16000 [==============================] - 1s 45us/step - loss: 0.2370 - acc: 0.9233 - val_loss: 0.3521 - val_acc: 0.8733\n",
      "Epoch 15/1000\n",
      "16000/16000 [==============================] - 1s 44us/step - loss: 0.2288 - acc: 0.9278 - val_loss: 0.3486 - val_acc: 0.8762\n",
      "Epoch 16/1000\n",
      "16000/16000 [==============================] - 1s 44us/step - loss: 0.2246 - acc: 0.9293 - val_loss: 0.3567 - val_acc: 0.8742\n",
      "Epoch 17/1000\n",
      "16000/16000 [==============================] - 1s 43us/step - loss: 0.2178 - acc: 0.9326 - val_loss: 0.3552 - val_acc: 0.8747\n",
      "Epoch 00017: early stopping\n"
     ]
    }
   ],
   "source": [
    "from keras import layers, Model,callbacks\n",
    "import numpy as np\n",
    "import matplotlib.pyplot as plt\n",
    "import h5py\n",
    "\n",
    "data_path = 'cleaned_with_top_4k_used/data.h5'\n",
    "with h5py.File(data_path, 'r') as h:\n",
    "    labeled_train = np.array(h['lableledTrainData'])\n",
    "    test = np.array(h['testData'])\n",
    "    labels = np.array(h['trainDataLabels'])\n",
    "    unlabeled_train = np.array(h['unlableledTrainData'])\n",
    "x = labeled_train\n",
    "y = np.zeros((len(labels), 2))\n",
    "y[np.arange(0, labels.shape[0]), labels] = 1\n",
    "\n",
    "a = layers.Input(shape=(252,), dtype='float32')\n",
    "embedding = layers.Embedding(input_dim=4003, output_dim=10, input_length=252)(a)\n",
    "conv1 = layers.Convolution1D(filters=128, kernel_size=2, strides=1, padding='same', activation='relu')(embedding)\n",
    "pool=layers.GlobalAveragePooling1D()(conv1)\n",
    "#rnn = layers.CuDNNLSTM(units=64, return_sequences=True,bias_regularizer='l1_l2')(conv1)\n",
    "#conv2 = layers.Convolution1D(filters=32, kernel_size=2, strides=1, padding='same', activation='relu')(rnn)\n",
    "#pool=layers.AveragePooling1D(pool_size=12,strides=6)(conv2)\n",
    "#flatten = layers.Flatten()(pool)\n",
    "#dropout1 = layers.Dropout(0.5)(flatten)\n",
    "dense1 = layers.Dense(units=512, activation='relu',kernel_regularizer='l2')(pool)\n",
    "dropout2 = layers.Dropout(0.5)(dense1)\n",
    "dense2 = layers.Dense(units=256, activation='relu')(dropout2)\n",
    "dropout3 = layers.Dropout(0.5)(dense2)\n",
    "b = layers.Dense(units=2, activation='softmax')(dropout2)\n",
    "model = Model(a, b)\n",
    "model.summary()\n",
    "early_stopping = callbacks.EarlyStopping(monitor='val_loss', patience=5, verbose=2)\n",
    "model.compile(optimizer='adam', loss='binary_crossentropy', metrics=['accuracy'])\n",
    "history=model.fit(x, y, batch_size=512, epochs=1000, validation_split=0.2,callbacks=[early_stopping])"
   ]
  },
  {
   "cell_type": "code",
   "execution_count": 2,
   "metadata": {},
   "outputs": [
    {
     "data": {
      "image/png": "[encoded data removed]",
      "text/plain": [
       "<Figure size 432x288 with 1 Axes>"
      ]
     },
     "metadata": {
      "needs_background": "light"
     },
     "output_type": "display_data"
    }
   ],
   "source": [
    "def plot_history(history):\n",
    "    acc,val_acc,loss,val_loss = history.history['acc'],history.history['val_acc'],history.history['loss'],history.history['val_loss']\n",
    "    epochs = range(1, len(acc) + 1)\n",
    "    epoch=range(1,len(acc)+1)\n",
    "    fig=plt.figure()\n",
    "    ax=fig.add_subplot(111)\n",
    "    ax.plot(acc,'r',label='train_acc')\n",
    "    ax.plot(loss,'r--',label='train_loss')\n",
    "    ax.plot(val_acc,'b',label='val_acc')\n",
    "    ax.plot(val_loss,'b--',label='val_loss')\n",
    "    ax.legend()\n",
    "plot_history(history)"
   ]
  },
  {
   "cell_type": "code",
   "execution_count": 3,
   "metadata": {},
   "outputs": [],
   "source": [
    "unlabeled_labels=model.predict(unlabeled_train)\n",
    "unlabeled_labels[unlabeled_labels>=0.5]=unlabeled_labels[unlabeled_labels>0.5]*history.history['acc'][-1]\n",
    "unlabeled_labels[unlabeled_labels<0.5]=unlabeled_labels[unlabeled_labels<0.5]/history.history['acc'][-1]\n",
    "unlabeled_labels[unlabeled_labels>=0.5]=1\n",
    "unlabeled_labels[unlabeled_labels<0.5]=0"
   ]
  },
  {
   "cell_type": "code",
   "execution_count": 4,
   "metadata": {},
   "outputs": [
    {
     "name": "stdout",
     "output_type": "stream",
     "text": [
      "Train on 55998 samples, validate on 14000 samples\n",
      "Epoch 1/1000\n",
      "55998/55998 [==============================] - 10s 180us/step - loss: 0.7360 - acc: 0.6199 - val_loss: 0.3511 - val_acc: 0.8785\n",
      "Epoch 2/1000\n",
      "55998/55998 [==============================] - 9s 162us/step - loss: 0.3365 - acc: 0.8738 - val_loss: 0.2500 - val_acc: 0.9014\n",
      "Epoch 3/1000\n",
      "55998/55998 [==============================] - 9s 162us/step - loss: 0.2474 - acc: 0.9119 - val_loss: 0.1651 - val_acc: 0.9440\n",
      "Epoch 4/1000\n",
      "55998/55998 [==============================] - 9s 161us/step - loss: 0.2078 - acc: 0.9283 - val_loss: 0.1618 - val_acc: 0.9341\n",
      "Epoch 5/1000\n",
      "55998/55998 [==============================] - 9s 161us/step - loss: 0.1924 - acc: 0.9361 - val_loss: 0.2217 - val_acc: 0.9049\n",
      "Epoch 6/1000\n",
      "55998/55998 [==============================] - 9s 161us/step - loss: 0.1813 - acc: 0.9400 - val_loss: 0.1229 - val_acc: 0.9554\n",
      "Epoch 7/1000\n",
      "55998/55998 [==============================] - 9s 161us/step - loss: 0.1738 - acc: 0.9425 - val_loss: 0.1213 - val_acc: 0.9551\n",
      "Epoch 8/1000\n",
      "55998/55998 [==============================] - 9s 162us/step - loss: 0.1609 - acc: 0.9484 - val_loss: 0.1391 - val_acc: 0.9467\n",
      "Epoch 9/1000\n",
      "55998/55998 [==============================] - 9s 162us/step - loss: 0.1568 - acc: 0.9492 - val_loss: 0.1412 - val_acc: 0.9438\n",
      "Epoch 10/1000\n",
      "55998/55998 [==============================] - 9s 162us/step - loss: 0.1563 - acc: 0.9482 - val_loss: 0.1268 - val_acc: 0.9576\n",
      "Epoch 11/1000\n",
      "55998/55998 [==============================] - 9s 161us/step - loss: 0.1465 - acc: 0.9542 - val_loss: 0.1353 - val_acc: 0.9492\n",
      "Epoch 12/1000\n",
      "55998/55998 [==============================] - 9s 162us/step - loss: 0.1465 - acc: 0.9529 - val_loss: 0.1244 - val_acc: 0.9564\n",
      "Epoch 00012: early stopping\n"
     ]
    }
   ],
   "source": [
    "#with h5py.File(data_path) as h:\n",
    "#    h.create_dataset('unlabeled_predict_labels',data=unlabeled_labels)\n",
    "train_data=np.concatenate([labeled_train,unlabeled_train],axis=0)\n",
    "train_labels=np.concatenate([y,unlabeled_labels],axis=0)\n",
    "\n",
    "a_ = layers.Input(shape=(252,), dtype='float32')\n",
    "embedding_ = layers.Embedding(input_dim=4003, output_dim=12, input_length=252)(a_)\n",
    "conv1_ = layers.Convolution1D(filters=128, kernel_size=2, strides=1, padding='same', activation='relu')(embedding_)\n",
    "rnn_ = layers.CuDNNGRU(units=128, return_sequences=True,bias_regularizer='l2')(conv1_)\n",
    "conv2_ = layers.Convolution1D(filters=32, kernel_size=2, strides=1, padding='same', activation='relu')(rnn_)\n",
    "pool_=layers.AveragePooling1D(pool_size=12,strides=6)(conv2_)\n",
    "flatten_ = layers.Flatten()(pool_)\n",
    "dropout1_ = layers.Dropout(0.5)(flatten_)\n",
    "dense1_ = layers.Dense(units=128, activation='relu',kernel_regularizer='l2')(dropout1_)\n",
    "dropout2_ = layers.Dropout(0.5)(dense1_)\n",
    "#dense2 = layers.Dense(units=64, activation='relu')(dropout2)\n",
    "#dropout3 = layers.Dropout(0.5)(dense2)\n",
    "b_ = layers.Dense(units=2, activation='sigmoid')(dropout2_)\n",
    "model_=Model(a_,b_)\n",
    "\n",
    "model_.compile(optimizer='adagrad', loss='binary_crossentropy', metrics=['accuracy'])\n",
    "history=model_.fit(train_data, train_labels, batch_size=512, epochs=1000, validation_split=0.2,callbacks=[early_stopping])"
   ]
  },
  {
   "cell_type": "code",
   "execution_count": 5,
   "metadata": {},
   "outputs": [
    {
     "data": {
      "image/png": "[encoded data removed]",
      "text/plain": [
       "<Figure size 432x288 with 1 Axes>"
      ]
     },
     "metadata": {
      "needs_background": "light"
     },
     "output_type": "display_data"
    }
   ],
   "source": [
    "plot_history(history)"
   ]
  },
  {
   "cell_type": "code",
   "execution_count": 6,
   "metadata": {},
   "outputs": [],
   "source": [
    "test_labels=model.predict(test)\n",
    "test_labels[test_labels>=0.5]=1\n",
    "test_labels[test_labels<0.5]=0\n",
    "test_labels=np.argmax(test_labels,axis=1)\n",
    "#with h5py.File(data_path) as h:\n",
    "#    h.create_dataset('test_labels',data=test_labels)"
   ]
  },
  {
   "cell_type": "code",
   "execution_count": 7,
   "metadata": {},
   "outputs": [
    {
     "data": {
      "text/plain": [
       "array([1, 1, 0, ..., 1, 1, 1], dtype=int64)"
      ]
     },
     "execution_count": 7,
     "metadata": {},
     "output_type": "execute_result"
    }
   ],
   "source": [
    "test_labels"
   ]
  },
  {
   "cell_type": "code",
   "execution_count": 8,
   "metadata": {},
   "outputs": [],
   "source": [
    "import pandas as pd\n",
    "path='cleaned/testData.tsv'\n",
    "iden=pd.read_csv(path,sep='\\t',header=0)['id'].values"
   ]
  },
  {
   "cell_type": "code",
   "execution_count": 9,
   "metadata": {},
   "outputs": [],
   "source": [
    "df=pd.DataFrame([iden,test_labels],index=['id','sentiment']).transpose()"
   ]
  },
  {
   "cell_type": "code",
   "execution_count": 10,
   "metadata": {},
   "outputs": [],
   "source": [
    "df.to_csv('submission.csv',header=True,index=False)"
   ]
  },
  {
   "cell_type": "markdown",
   "metadata": {},
   "source": [
    "# 86.08\tsubmission.zip\t12/19/2018 13:01:03\tFinished\t\t\n",
    "# 85.32\tsubmission.zip\t12/19/2018 13:20:29\tFinished\t\t\n",
    "# 87.14\tsubmission.zip\t12/19/2018 13:39:45\tFinished\t\n",
    "# 87.04\tsubmission.zip\t12/19/2018 13:50:22\tFinished"
   ]
  },
  {
   "cell_type": "code",
   "execution_count": null,
   "metadata": {},
   "outputs": [],
   "source": []
  }
 ],
 "metadata": {
  "kernelspec": {
   "display_name": "Python 3",
   "language": "python",
   "name": "python3"
  },
  "language_info": {
   "codemirror_mode": {
    "name": "ipython",
    "version": 3
   },
   "file_extension": ".py",
   "mimetype": "text/x-python",
   "name": "python",
   "nbconvert_exporter": "python",
   "pygments_lexer": "ipython3",
   "version": "3.6.6"
  }
 },
 "nbformat": 4,
 "nbformat_minor": 2
}
